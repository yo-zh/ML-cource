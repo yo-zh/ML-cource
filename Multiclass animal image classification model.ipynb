{
  "nbformat": 4,
  "nbformat_minor": 0,
  "metadata": {
    "colab": {
      "provenance": [],
      "gpuType": "V28"
    },
    "kernelspec": {
      "name": "python3",
      "display_name": "Python 3"
    },
    "language_info": {
      "name": "python"
    },
    "accelerator": "TPU"
  },
  "cells": [
    {
      "cell_type": "markdown",
      "source": [
        "Используя датасет \"Собаки и кошки\":\n",
        "1. Проведена аугментация изображений.\n",
        "2. В качестве предобученной модели взята `MobileNet`\n",
        "3. Создана модель многоклассовой классификации, приведенная ниже.\n",
        "4. Результат првоерен на тестовой выборке."
      ],
      "metadata": {
        "id": "zd9JxveEPUco"
      }
    },
    {
      "cell_type": "code",
      "execution_count": null,
      "metadata": {
        "id": "7lk_gQKeMC2A"
      },
      "outputs": [],
      "source": [
        "# from keras.applications import MobileNet\n",
        "# from keras import models\n",
        "# from keras.layers import GlobalAveragePooling2D, Dense, Dropout\n",
        "# from keras import optimizers\n",
        "\n",
        "# def model_maker():\n",
        "#     base_model = MobileNet(include_top=False, input_shape = (IMG_WIDTH, IMG_HEIGHT, 3))\n",
        "\n",
        "#     for layer in base_model.layers[:]:\n",
        "#         layer.trainable = False\n",
        "\n",
        "#     input = Input(shape=(IMG_WIDTH, IMG_HEIGHT, 3))\n",
        "#     custom_model = base_model(input)\n",
        "#     custom_model = GlobalAveragePooling2D()(custom_model)\n",
        "#     custom_model = Dense(64, activation='relu')(custom_model)\n",
        "#     custom_model = Dropout(0.5)(custom_model)\n",
        "#     predictions = Dense(NUM_CLASSES, activation='softmax')(custom_model)\n",
        "\n",
        "#     return Model(inputs=input, outputs=predictions)"
      ]
    },
    {
      "cell_type": "code",
      "source": [
        "# model_maker.summary()"
      ],
      "metadata": {
        "id": "HhSQ9KCTe7Hl"
      },
      "execution_count": null,
      "outputs": []
    },
    {
      "cell_type": "code",
      "source": [
        "!wget https://storage.yandexcloud.net/academy.ai/cat-and-dog.zip\n",
        "\n",
        "!unzip -q -o \"cat-and-dog\" -d ./temp"
      ],
      "metadata": {
        "id": "Ag57SJBaWI-A",
        "colab": {
          "base_uri": "https://localhost:8080/"
        },
        "outputId": "9193101e-bf83-447b-8ad3-18d079713a50"
      },
      "execution_count": null,
      "outputs": [
        {
          "output_type": "stream",
          "name": "stdout",
          "text": [
            "--2024-11-03 22:32:38--  https://storage.yandexcloud.net/academy.ai/cat-and-dog.zip\n",
            "Resolving storage.yandexcloud.net (storage.yandexcloud.net)... 213.180.193.243, 2a02:6b8::1d9\n",
            "Connecting to storage.yandexcloud.net (storage.yandexcloud.net)|213.180.193.243|:443... connected.\n",
            "HTTP request sent, awaiting response... 200 OK\n",
            "Length: 228082266 (218M) [application/x-zip-compressed]\n",
            "Saving to: ‘cat-and-dog.zip’\n",
            "\n",
            "cat-and-dog.zip     100%[===================>] 217.52M  29.6MB/s    in 8.5s    \n",
            "\n",
            "2024-11-03 22:32:48 (25.7 MB/s) - ‘cat-and-dog.zip’ saved [228082266/228082266]\n",
            "\n"
          ]
        }
      ]
    },
    {
      "cell_type": "code",
      "source": [
        "from keras.applications import MobileNet\n",
        "conv_base = MobileNet(weights='imagenet', include_top=False, input_shape=(224, 224, 3))\n"
      ],
      "metadata": {
        "colab": {
          "base_uri": "https://localhost:8080/"
        },
        "id": "iWf5IG7SoOOb",
        "outputId": "f4b6c1b4-3312-40d8-f8a6-23835db6514b"
      },
      "execution_count": null,
      "outputs": [
        {
          "output_type": "stream",
          "name": "stdout",
          "text": [
            "Downloading data from https://storage.googleapis.com/tensorflow/keras-applications/mobilenet/mobilenet_1_0_224_tf_no_top.h5\n",
            "17225924/17225924 [==============================] - 0s 0us/step\n"
          ]
        }
      ]
    },
    {
      "cell_type": "code",
      "source": [
        "conv_base.summary()"
      ],
      "metadata": {
        "colab": {
          "base_uri": "https://localhost:8080/"
        },
        "collapsed": true,
        "id": "CkrEJq8ds11G",
        "outputId": "7087d501-0a7b-4d69-c7a9-38d84cc1bdfb"
      },
      "execution_count": null,
      "outputs": [
        {
          "output_type": "stream",
          "name": "stdout",
          "text": [
            "Model: \"mobilenet_1.00_224\"\n",
            "_________________________________________________________________\n",
            " Layer (type)                Output Shape              Param #   \n",
            "=================================================================\n",
            " input_1 (InputLayer)        [(None, 224, 224, 3)]     0         \n",
            "                                                                 \n",
            " conv1 (Conv2D)              (None, 112, 112, 32)      864       \n",
            "                                                                 \n",
            " conv1_bn (BatchNormalizati  (None, 112, 112, 32)      128       \n",
            " on)                                                             \n",
            "                                                                 \n",
            " conv1_relu (ReLU)           (None, 112, 112, 32)      0         \n",
            "                                                                 \n",
            " conv_dw_1 (DepthwiseConv2D  (None, 112, 112, 32)      288       \n",
            " )                                                               \n",
            "                                                                 \n",
            " conv_dw_1_bn (BatchNormali  (None, 112, 112, 32)      128       \n",
            " zation)                                                         \n",
            "                                                                 \n",
            " conv_dw_1_relu (ReLU)       (None, 112, 112, 32)      0         \n",
            "                                                                 \n",
            " conv_pw_1 (Conv2D)          (None, 112, 112, 64)      2048      \n",
            "                                                                 \n",
            " conv_pw_1_bn (BatchNormali  (None, 112, 112, 64)      256       \n",
            " zation)                                                         \n",
            "                                                                 \n",
            " conv_pw_1_relu (ReLU)       (None, 112, 112, 64)      0         \n",
            "                                                                 \n",
            " conv_pad_2 (ZeroPadding2D)  (None, 113, 113, 64)      0         \n",
            "                                                                 \n",
            " conv_dw_2 (DepthwiseConv2D  (None, 56, 56, 64)        576       \n",
            " )                                                               \n",
            "                                                                 \n",
            " conv_dw_2_bn (BatchNormali  (None, 56, 56, 64)        256       \n",
            " zation)                                                         \n",
            "                                                                 \n",
            " conv_dw_2_relu (ReLU)       (None, 56, 56, 64)        0         \n",
            "                                                                 \n",
            " conv_pw_2 (Conv2D)          (None, 56, 56, 128)       8192      \n",
            "                                                                 \n",
            " conv_pw_2_bn (BatchNormali  (None, 56, 56, 128)       512       \n",
            " zation)                                                         \n",
            "                                                                 \n",
            " conv_pw_2_relu (ReLU)       (None, 56, 56, 128)       0         \n",
            "                                                                 \n",
            " conv_dw_3 (DepthwiseConv2D  (None, 56, 56, 128)       1152      \n",
            " )                                                               \n",
            "                                                                 \n",
            " conv_dw_3_bn (BatchNormali  (None, 56, 56, 128)       512       \n",
            " zation)                                                         \n",
            "                                                                 \n",
            " conv_dw_3_relu (ReLU)       (None, 56, 56, 128)       0         \n",
            "                                                                 \n",
            " conv_pw_3 (Conv2D)          (None, 56, 56, 128)       16384     \n",
            "                                                                 \n",
            " conv_pw_3_bn (BatchNormali  (None, 56, 56, 128)       512       \n",
            " zation)                                                         \n",
            "                                                                 \n",
            " conv_pw_3_relu (ReLU)       (None, 56, 56, 128)       0         \n",
            "                                                                 \n",
            " conv_pad_4 (ZeroPadding2D)  (None, 57, 57, 128)       0         \n",
            "                                                                 \n",
            " conv_dw_4 (DepthwiseConv2D  (None, 28, 28, 128)       1152      \n",
            " )                                                               \n",
            "                                                                 \n",
            " conv_dw_4_bn (BatchNormali  (None, 28, 28, 128)       512       \n",
            " zation)                                                         \n",
            "                                                                 \n",
            " conv_dw_4_relu (ReLU)       (None, 28, 28, 128)       0         \n",
            "                                                                 \n",
            " conv_pw_4 (Conv2D)          (None, 28, 28, 256)       32768     \n",
            "                                                                 \n",
            " conv_pw_4_bn (BatchNormali  (None, 28, 28, 256)       1024      \n",
            " zation)                                                         \n",
            "                                                                 \n",
            " conv_pw_4_relu (ReLU)       (None, 28, 28, 256)       0         \n",
            "                                                                 \n",
            " conv_dw_5 (DepthwiseConv2D  (None, 28, 28, 256)       2304      \n",
            " )                                                               \n",
            "                                                                 \n",
            " conv_dw_5_bn (BatchNormali  (None, 28, 28, 256)       1024      \n",
            " zation)                                                         \n",
            "                                                                 \n",
            " conv_dw_5_relu (ReLU)       (None, 28, 28, 256)       0         \n",
            "                                                                 \n",
            " conv_pw_5 (Conv2D)          (None, 28, 28, 256)       65536     \n",
            "                                                                 \n",
            " conv_pw_5_bn (BatchNormali  (None, 28, 28, 256)       1024      \n",
            " zation)                                                         \n",
            "                                                                 \n",
            " conv_pw_5_relu (ReLU)       (None, 28, 28, 256)       0         \n",
            "                                                                 \n",
            " conv_pad_6 (ZeroPadding2D)  (None, 29, 29, 256)       0         \n",
            "                                                                 \n",
            " conv_dw_6 (DepthwiseConv2D  (None, 14, 14, 256)       2304      \n",
            " )                                                               \n",
            "                                                                 \n",
            " conv_dw_6_bn (BatchNormali  (None, 14, 14, 256)       1024      \n",
            " zation)                                                         \n",
            "                                                                 \n",
            " conv_dw_6_relu (ReLU)       (None, 14, 14, 256)       0         \n",
            "                                                                 \n",
            " conv_pw_6 (Conv2D)          (None, 14, 14, 512)       131072    \n",
            "                                                                 \n",
            " conv_pw_6_bn (BatchNormali  (None, 14, 14, 512)       2048      \n",
            " zation)                                                         \n",
            "                                                                 \n",
            " conv_pw_6_relu (ReLU)       (None, 14, 14, 512)       0         \n",
            "                                                                 \n",
            " conv_dw_7 (DepthwiseConv2D  (None, 14, 14, 512)       4608      \n",
            " )                                                               \n",
            "                                                                 \n",
            " conv_dw_7_bn (BatchNormali  (None, 14, 14, 512)       2048      \n",
            " zation)                                                         \n",
            "                                                                 \n",
            " conv_dw_7_relu (ReLU)       (None, 14, 14, 512)       0         \n",
            "                                                                 \n",
            " conv_pw_7 (Conv2D)          (None, 14, 14, 512)       262144    \n",
            "                                                                 \n",
            " conv_pw_7_bn (BatchNormali  (None, 14, 14, 512)       2048      \n",
            " zation)                                                         \n",
            "                                                                 \n",
            " conv_pw_7_relu (ReLU)       (None, 14, 14, 512)       0         \n",
            "                                                                 \n",
            " conv_dw_8 (DepthwiseConv2D  (None, 14, 14, 512)       4608      \n",
            " )                                                               \n",
            "                                                                 \n",
            " conv_dw_8_bn (BatchNormali  (None, 14, 14, 512)       2048      \n",
            " zation)                                                         \n",
            "                                                                 \n",
            " conv_dw_8_relu (ReLU)       (None, 14, 14, 512)       0         \n",
            "                                                                 \n",
            " conv_pw_8 (Conv2D)          (None, 14, 14, 512)       262144    \n",
            "                                                                 \n",
            " conv_pw_8_bn (BatchNormali  (None, 14, 14, 512)       2048      \n",
            " zation)                                                         \n",
            "                                                                 \n",
            " conv_pw_8_relu (ReLU)       (None, 14, 14, 512)       0         \n",
            "                                                                 \n",
            " conv_dw_9 (DepthwiseConv2D  (None, 14, 14, 512)       4608      \n",
            " )                                                               \n",
            "                                                                 \n",
            " conv_dw_9_bn (BatchNormali  (None, 14, 14, 512)       2048      \n",
            " zation)                                                         \n",
            "                                                                 \n",
            " conv_dw_9_relu (ReLU)       (None, 14, 14, 512)       0         \n",
            "                                                                 \n",
            " conv_pw_9 (Conv2D)          (None, 14, 14, 512)       262144    \n",
            "                                                                 \n",
            " conv_pw_9_bn (BatchNormali  (None, 14, 14, 512)       2048      \n",
            " zation)                                                         \n",
            "                                                                 \n",
            " conv_pw_9_relu (ReLU)       (None, 14, 14, 512)       0         \n",
            "                                                                 \n",
            " conv_dw_10 (DepthwiseConv2  (None, 14, 14, 512)       4608      \n",
            " D)                                                              \n",
            "                                                                 \n",
            " conv_dw_10_bn (BatchNormal  (None, 14, 14, 512)       2048      \n",
            " ization)                                                        \n",
            "                                                                 \n",
            " conv_dw_10_relu (ReLU)      (None, 14, 14, 512)       0         \n",
            "                                                                 \n",
            " conv_pw_10 (Conv2D)         (None, 14, 14, 512)       262144    \n",
            "                                                                 \n",
            " conv_pw_10_bn (BatchNormal  (None, 14, 14, 512)       2048      \n",
            " ization)                                                        \n",
            "                                                                 \n",
            " conv_pw_10_relu (ReLU)      (None, 14, 14, 512)       0         \n",
            "                                                                 \n",
            " conv_dw_11 (DepthwiseConv2  (None, 14, 14, 512)       4608      \n",
            " D)                                                              \n",
            "                                                                 \n",
            " conv_dw_11_bn (BatchNormal  (None, 14, 14, 512)       2048      \n",
            " ization)                                                        \n",
            "                                                                 \n",
            " conv_dw_11_relu (ReLU)      (None, 14, 14, 512)       0         \n",
            "                                                                 \n",
            " conv_pw_11 (Conv2D)         (None, 14, 14, 512)       262144    \n",
            "                                                                 \n",
            " conv_pw_11_bn (BatchNormal  (None, 14, 14, 512)       2048      \n",
            " ization)                                                        \n",
            "                                                                 \n",
            " conv_pw_11_relu (ReLU)      (None, 14, 14, 512)       0         \n",
            "                                                                 \n",
            " conv_pad_12 (ZeroPadding2D  (None, 15, 15, 512)       0         \n",
            " )                                                               \n",
            "                                                                 \n",
            " conv_dw_12 (DepthwiseConv2  (None, 7, 7, 512)         4608      \n",
            " D)                                                              \n",
            "                                                                 \n",
            " conv_dw_12_bn (BatchNormal  (None, 7, 7, 512)         2048      \n",
            " ization)                                                        \n",
            "                                                                 \n",
            " conv_dw_12_relu (ReLU)      (None, 7, 7, 512)         0         \n",
            "                                                                 \n",
            " conv_pw_12 (Conv2D)         (None, 7, 7, 1024)        524288    \n",
            "                                                                 \n",
            " conv_pw_12_bn (BatchNormal  (None, 7, 7, 1024)        4096      \n",
            " ization)                                                        \n",
            "                                                                 \n",
            " conv_pw_12_relu (ReLU)      (None, 7, 7, 1024)        0         \n",
            "                                                                 \n",
            " conv_dw_13 (DepthwiseConv2  (None, 7, 7, 1024)        9216      \n",
            " D)                                                              \n",
            "                                                                 \n",
            " conv_dw_13_bn (BatchNormal  (None, 7, 7, 1024)        4096      \n",
            " ization)                                                        \n",
            "                                                                 \n",
            " conv_dw_13_relu (ReLU)      (None, 7, 7, 1024)        0         \n",
            "                                                                 \n",
            " conv_pw_13 (Conv2D)         (None, 7, 7, 1024)        1048576   \n",
            "                                                                 \n",
            " conv_pw_13_bn (BatchNormal  (None, 7, 7, 1024)        4096      \n",
            " ization)                                                        \n",
            "                                                                 \n",
            " conv_pw_13_relu (ReLU)      (None, 7, 7, 1024)        0         \n",
            "                                                                 \n",
            "=================================================================\n",
            "Total params: 3228864 (12.32 MB)\n",
            "Trainable params: 3206976 (12.23 MB)\n",
            "Non-trainable params: 21888 (85.50 KB)\n",
            "_________________________________________________________________\n"
          ]
        }
      ]
    },
    {
      "cell_type": "code",
      "source": [
        "import os\n",
        "import shutil\n",
        "\n",
        "from keras import layers\n",
        "from keras import models\n",
        "from keras import optimizers\n",
        "\n",
        "from tensorflow.keras.preprocessing.image import ImageDataGenerator\n",
        "\n",
        "TRAIN_IMG_PATH = './temp/training_set/training_set/'\n",
        "TEST_IMG_PATH = './temp/test_set/test_set/'\n",
        "BASE_DIR = './dataset/'\n",
        "\n",
        "CLASS_LIST = sorted(os.listdir(TRAIN_IMG_PATH))\n",
        "CLASS_COUNT = len(CLASS_LIST)\n",
        "\n",
        "if os.path.exists(BASE_DIR):\n",
        "    shutil.rmtree(BASE_DIR)\n",
        "\n",
        "os.mkdir(BASE_DIR)\n",
        "\n",
        "train_dir = os.path.join(BASE_DIR, 'train')\n",
        "os.mkdir(train_dir)\n",
        "\n",
        "validation_dir = os.path.join(BASE_DIR, 'validation')\n",
        "os.mkdir(validation_dir)\n",
        "\n",
        "test_dir = os.path.join(BASE_DIR, 'test')\n",
        "os.mkdir(test_dir)\n",
        "\n",
        "def create_dataset(\n",
        "    img_path: str,\n",
        "    new_path: str,\n",
        "    class_name: str,\n",
        "    start_index: int,\n",
        "    end_index: int\n",
        "\n",
        "):\n",
        "\n",
        "    src_path = os.path.join(img_path, class_name)\n",
        "    dst_path = os.path.join(new_path, class_name)\n",
        "\n",
        "    class_files = os.listdir(src_path)\n",
        "    os.mkdir(dst_path)\n",
        "\n",
        "    for fname in class_files[start_index : end_index]:\n",
        "        src = os.path.join(src_path, fname)\n",
        "        dst = os.path.join(dst_path, fname)\n",
        "        shutil.copyfile(src, dst)\n",
        "\n",
        "\n",
        "for class_label in range(CLASS_COUNT):\n",
        "    class_name = CLASS_LIST[class_label]\n",
        "    create_dataset(TRAIN_IMG_PATH, train_dir, class_name, 0, 3000)\n",
        "    create_dataset(TRAIN_IMG_PATH, validation_dir, class_name, 3000, 4000)\n",
        "    create_dataset(TEST_IMG_PATH, test_dir, class_name, 0, 1000)"
      ],
      "metadata": {
        "id": "olrJJ-0elfuo"
      },
      "execution_count": null,
      "outputs": []
    },
    {
      "cell_type": "code",
      "source": [
        "import numpy as np\n",
        "from tensorflow.keras.preprocessing.image import ImageDataGenerator\n",
        "\n",
        "datagen = ImageDataGenerator(rescale=1./255)\n",
        "batch_size = 10\n",
        "\n",
        "def extract_features(directory, sample_count):\n",
        "    features = np.zeros(shape=(sample_count, 224, 224, 3))\n",
        "    labels = np.zeros(shape=(sample_count, 2))\n",
        "\n",
        "    generator = datagen.flow_from_directory(\n",
        "        directory,\n",
        "        target_size=(224, 224),\n",
        "        batch_size=batch_size,\n",
        "        class_mode='categorical'\n",
        "    )\n",
        "    i = 0\n",
        "    for inputs_batch, labels_batch in generator:\n",
        "        features_batch = inputs_batch\n",
        "\n",
        "        features[i * batch_size : (i + 1) * batch_size] = features_batch\n",
        "        labels[i * batch_size : (i + 1) * batch_size] = labels_batch\n",
        "        i += 1\n",
        "\n",
        "        if i * batch_size >= sample_count:\n",
        "            break\n",
        "\n",
        "    return features, labels\n",
        "\n",
        "train_features, train_labels = extract_features(train_dir, 6000)\n",
        "validation_features, validation_labels = extract_features(validation_dir, 1000)\n",
        "test_features, test_labels = extract_features(test_dir, 1000)"
      ],
      "metadata": {
        "colab": {
          "base_uri": "https://localhost:8080/"
        },
        "id": "NWmIzylNn8uH",
        "outputId": "2f36e8d0-adc6-4f3e-e60e-d880ac7d4890"
      },
      "execution_count": null,
      "outputs": [
        {
          "output_type": "stream",
          "name": "stdout",
          "text": [
            "Found 6000 images belonging to 2 classes.\n",
            "Found 2000 images belonging to 2 classes.\n",
            "Found 2000 images belonging to 2 classes.\n"
          ]
        }
      ]
    },
    {
      "cell_type": "code",
      "source": [
        "from keras.applications import MobileNet\n",
        "from keras import models\n",
        "from keras.layers import GlobalAveragePooling2D, Dense, Dropout, Input\n",
        "from keras import optimizers\n",
        "from keras import losses\n",
        "\n",
        "def model_maker():\n",
        "    base_model = MobileNet(include_top=False, input_shape = (224, 224, 3))\n",
        "\n",
        "    for layer in base_model.layers[:]:\n",
        "        layer.trainable = False\n",
        "\n",
        "    input = Input(shape=(224, 224, 3))\n",
        "    custom_model = base_model(input)\n",
        "    custom_model = GlobalAveragePooling2D()(custom_model)\n",
        "    custom_model = Dense(64, activation='relu')(custom_model)\n",
        "    custom_model = Dropout(0.5)(custom_model)\n",
        "    predictions = Dense(2, activation='softmax')(custom_model)\n",
        "\n",
        "    return models.Model(inputs=input, outputs=predictions)"
      ],
      "metadata": {
        "id": "bGUhWM02puy1"
      },
      "execution_count": null,
      "outputs": []
    },
    {
      "cell_type": "code",
      "source": [
        "model = model_maker()\n",
        "\n",
        "model.compile(\n",
        "    optimizer=optimizers.RMSprop(learning_rate=1e-4),\n",
        "    loss=losses.categorical_crossentropy,\n",
        "    metrics=['acc']\n",
        ")"
      ],
      "metadata": {
        "id": "QHt4j13euukg"
      },
      "execution_count": null,
      "outputs": []
    },
    {
      "cell_type": "code",
      "source": [
        "from keras.callbacks import EarlyStopping\n",
        "\n",
        "callback = EarlyStopping(monitor='val_acc', patience=3)\n",
        "\n",
        "history = model.fit(\n",
        "    train_features, train_labels,\n",
        "    epochs=30,\n",
        "    batch_size=32,\n",
        "    validation_data=(validation_features, validation_labels),\n",
        "    callbacks=[callback],\n",
        "    verbose=1\n",
        ")"
      ],
      "metadata": {
        "colab": {
          "base_uri": "https://localhost:8080/"
        },
        "id": "Lm_-1YBMwEjx",
        "outputId": "6c0dd562-dcb8-43ef-a69b-4273d47b76c2"
      },
      "execution_count": null,
      "outputs": [
        {
          "output_type": "stream",
          "name": "stdout",
          "text": [
            "Epoch 1/30\n",
            "188/188 [==============================] - 36s 182ms/step - loss: 0.2262 - acc: 0.9050 - val_loss: 0.0869 - val_acc: 0.9690\n",
            "Epoch 2/30\n",
            "188/188 [==============================] - 32s 173ms/step - loss: 0.0925 - acc: 0.9637 - val_loss: 0.0711 - val_acc: 0.9700\n",
            "Epoch 3/30\n",
            "188/188 [==============================] - 32s 171ms/step - loss: 0.0724 - acc: 0.9707 - val_loss: 0.0677 - val_acc: 0.9690\n",
            "Epoch 4/30\n",
            "188/188 [==============================] - 34s 183ms/step - loss: 0.0609 - acc: 0.9768 - val_loss: 0.0624 - val_acc: 0.9750\n",
            "Epoch 5/30\n",
            "188/188 [==============================] - 32s 171ms/step - loss: 0.0539 - acc: 0.9800 - val_loss: 0.0612 - val_acc: 0.9740\n",
            "Epoch 6/30\n",
            "188/188 [==============================] - 31s 167ms/step - loss: 0.0469 - acc: 0.9815 - val_loss: 0.0610 - val_acc: 0.9750\n",
            "Epoch 7/30\n",
            "188/188 [==============================] - 30s 162ms/step - loss: 0.0446 - acc: 0.9835 - val_loss: 0.0589 - val_acc: 0.9760\n",
            "Epoch 8/30\n",
            "188/188 [==============================] - 30s 159ms/step - loss: 0.0388 - acc: 0.9842 - val_loss: 0.0587 - val_acc: 0.9750\n",
            "Epoch 9/30\n",
            "188/188 [==============================] - 31s 167ms/step - loss: 0.0368 - acc: 0.9852 - val_loss: 0.0599 - val_acc: 0.9740\n",
            "Epoch 10/30\n",
            "188/188 [==============================] - 30s 161ms/step - loss: 0.0342 - acc: 0.9877 - val_loss: 0.0586 - val_acc: 0.9760\n"
          ]
        }
      ]
    },
    {
      "cell_type": "code",
      "source": [
        "test_datagen = ImageDataGenerator(rescale=1./255)\n",
        "\n",
        "test_generator = test_datagen.flow_from_directory(\n",
        "    test_dir,\n",
        "    target_size=(224, 224),\n",
        "    batch_size=10,\n",
        "    class_mode='categorical'\n",
        ")\n",
        "\n",
        "test_loss, test_acc = model.evaluate(test_generator, steps=50)\n",
        "print('Контрольная точность', test_acc)"
      ],
      "metadata": {
        "colab": {
          "base_uri": "https://localhost:8080/"
        },
        "id": "XwLy7BYMAzsw",
        "outputId": "a32f3dcb-2a46-449f-8ee5-aecbded49836"
      },
      "execution_count": null,
      "outputs": [
        {
          "output_type": "stream",
          "name": "stdout",
          "text": [
            "Found 2000 images belonging to 2 classes.\n",
            "50/50 [==============================] - 3s 43ms/step - loss: 0.0556 - acc: 0.9800\n",
            "Контрольная точность 0.9800000190734863\n"
          ]
        }
      ]
    },
    {
      "cell_type": "code",
      "source": [
        "model.save('cats_dogs_mode.hdf5r')"
      ],
      "metadata": {
        "id": "LtJMy3DHE6p_"
      },
      "execution_count": null,
      "outputs": []
    },
    {
      "cell_type": "code",
      "source": [
        "!zip -r /content/cats_dogs_mode.zip /content/cats_dogs_mode.hdf5r"
      ],
      "metadata": {
        "colab": {
          "base_uri": "https://localhost:8080/"
        },
        "id": "qymr-kT2IifD",
        "outputId": "04485d8b-259d-49f7-da2d-f4b1f776033b"
      },
      "execution_count": null,
      "outputs": [
        {
          "output_type": "stream",
          "name": "stdout",
          "text": [
            "  adding: content/cats_dogs_mode.hdf5r/ (stored 0%)\n",
            "  adding: content/cats_dogs_mode.hdf5r/fingerprint.pb (stored 0%)\n",
            "  adding: content/cats_dogs_mode.hdf5r/saved_model.pb (deflated 91%)\n",
            "  adding: content/cats_dogs_mode.hdf5r/variables/ (stored 0%)\n",
            "  adding: content/cats_dogs_mode.hdf5r/variables/variables.index (deflated 75%)\n",
            "  adding: content/cats_dogs_mode.hdf5r/variables/variables.data-00000-of-00001 (deflated 7%)\n",
            "  adding: content/cats_dogs_mode.hdf5r/keras_metadata.pb (deflated 96%)\n",
            "  adding: content/cats_dogs_mode.hdf5r/assets/ (stored 0%)\n"
          ]
        }
      ]
    },
    {
      "cell_type": "code",
      "source": [
        "from google.colab import files\n",
        "files.download(\"/content/cats_dogs_mode.zip\")"
      ],
      "metadata": {
        "colab": {
          "base_uri": "https://localhost:8080/",
          "height": 34
        },
        "id": "Ar1nY_KcI1Ec",
        "outputId": "32918e53-2299-4588-d335-b834bb34d198"
      },
      "execution_count": null,
      "outputs": [
        {
          "output_type": "display_data",
          "data": {
            "text/plain": [
              "<IPython.core.display.Javascript object>"
            ],
            "application/javascript": [
              "\n",
              "    async function download(id, filename, size) {\n",
              "      if (!google.colab.kernel.accessAllowed) {\n",
              "        return;\n",
              "      }\n",
              "      const div = document.createElement('div');\n",
              "      const label = document.createElement('label');\n",
              "      label.textContent = `Downloading \"${filename}\": `;\n",
              "      div.appendChild(label);\n",
              "      const progress = document.createElement('progress');\n",
              "      progress.max = size;\n",
              "      div.appendChild(progress);\n",
              "      document.body.appendChild(div);\n",
              "\n",
              "      const buffers = [];\n",
              "      let downloaded = 0;\n",
              "\n",
              "      const channel = await google.colab.kernel.comms.open(id);\n",
              "      // Send a message to notify the kernel that we're ready.\n",
              "      channel.send({})\n",
              "\n",
              "      for await (const message of channel.messages) {\n",
              "        // Send a message to notify the kernel that we're ready.\n",
              "        channel.send({})\n",
              "        if (message.buffers) {\n",
              "          for (const buffer of message.buffers) {\n",
              "            buffers.push(buffer);\n",
              "            downloaded += buffer.byteLength;\n",
              "            progress.value = downloaded;\n",
              "          }\n",
              "        }\n",
              "      }\n",
              "      const blob = new Blob(buffers, {type: 'application/binary'});\n",
              "      const a = document.createElement('a');\n",
              "      a.href = window.URL.createObjectURL(blob);\n",
              "      a.download = filename;\n",
              "      div.appendChild(a);\n",
              "      a.click();\n",
              "      div.remove();\n",
              "    }\n",
              "  "
            ]
          },
          "metadata": {}
        },
        {
          "output_type": "display_data",
          "data": {
            "text/plain": [
              "<IPython.core.display.Javascript object>"
            ],
            "application/javascript": [
              "download(\"download_786ed138-bfd0-4a4c-b1a2-0e1431e928ac\", \"cats_dogs_mode.zip\", 12653338)"
            ]
          },
          "metadata": {}
        }
      ]
    }
  ]
}